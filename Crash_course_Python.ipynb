{
 "cells": [
  {
   "cell_type": "markdown",
   "metadata": {
    "colab_type": "text",
    "id": "view-in-github"
   },
   "source": [
    "<a href=\"https://colab.research.google.com/github/shahnisargshah/PersonalLnD/blob/main/Crash_course_Python.ipynb\" target=\"_parent\"><img src=\"https://colab.research.google.com/assets/colab-badge.svg\" alt=\"Open In Colab\"/></a>"
   ]
  },
  {
   "cell_type": "markdown",
   "metadata": {
    "id": "UQS7r9-h4Be_"
   },
   "source": [
    "Skill 1\n",
    "Use the print() function to output a string"
   ]
  },
  {
   "cell_type": "code",
   "execution_count": null,
   "metadata": {
    "colab": {
     "base_uri": "https://localhost:8080/"
    },
    "collapsed": true,
    "id": "WAeBkXY-3UEF",
    "outputId": "b10f90c6-34f0-483b-8f41-6c812dcc3977"
   },
   "outputs": [
    {
     "name": "stdout",
     "output_type": "stream",
     "text": [
      "I love Python!\n",
      "360\n",
      "1440\n",
      "48\n"
     ]
    }
   ],
   "source": [
    "# Syntax for printing a string of text\n",
    "print(\"I love Python!\")\n",
    "\n",
    "\n",
    "# Syntax for printing numeric values\n",
    "print(360)\n",
    "print(32*45)\n",
    "\n",
    "\n",
    "# Syntax for printing the value of a variable\n",
    "value = 8*6\n",
    "print(value)"
   ]
  },
  {
   "cell_type": "markdown",
   "metadata": {
    "id": "UgOrpE8g33TB"
   },
   "source": [
    "Skill 2\n",
    "Use arithmetic operators, with a focus on exponents"
   ]
  },
  {
   "cell_type": "code",
   "execution_count": null,
   "metadata": {
    "id": "-R-IYEFl3-PM"
   },
   "outputs": [],
   "source": [
    "\n",
    "# Multiplication, division, addition, and subtraction\n",
    "print(3*8/2+5-1)\n",
    "\n",
    "# Exponents\n",
    "print(4**6) # Syntax means 4 to the power of 6\n",
    "print(4**2) # To square a number\n",
    "print(4**3) # To cube a number\n",
    "print(4**0.5) # To find the square root of a number\n",
    "\n",
    "# To calculate how many different possible combinations can be\n",
    "# formed using a set of \"x\" characters with each character in \"x\"\n",
    "# having \"y\" number of possible values, you will need to use an\n",
    "# exponent for the calculation:\n",
    "x = 4\n",
    "y = 26\n",
    "print(y**x)"
   ]
  },
  {
   "cell_type": "markdown",
   "metadata": {
    "id": "TqiufnBi3s0w"
   },
   "source": [
    "Skill 3\n",
    "Use variables with assignment and arithmetic operators"
   ]
  },
  {
   "cell_type": "code",
   "execution_count": null,
   "metadata": {
    "colab": {
     "base_uri": "https://localhost:8080/"
    },
    "id": "rjwA87Vh3y_i",
    "outputId": "a1b1f3c5-3732-4586-ff92-e8ec99b43de9"
   },
   "outputs": [
    {
     "name": "stdout",
     "output_type": "stream",
     "text": [
      "520\n"
     ]
    }
   ],
   "source": [
    "\n",
    "# Assignment of values to the variables:\n",
    "years = 10\n",
    "weeks_in_a_year = 52\n",
    "# This variable is assigned an arithmetic calculation:\n",
    "weeks_in_a_decade = years * weeks_in_a_year\n",
    "# Prints the calculation stored in the \"weeks_in_a_decade\" variable:\n",
    "print(weeks_in_a_decade)"
   ]
  },
  {
   "cell_type": "markdown",
   "metadata": {
    "id": "RFsNsUWC-Eeg"
   },
   "source": [
    "Functions: A group of related statements to perform a task and return a value"
   ]
  },
  {
   "cell_type": "code",
   "execution_count": null,
   "metadata": {
    "colab": {
     "base_uri": "https://localhost:8080/"
    },
    "id": "vpVbdf5M-FyC",
    "outputId": "ec836c43-216f-479f-dd02-49d1ea254f17"
   },
   "outputs": [
    {
     "data": {
      "text/plain": [
       "23.88888888888889"
      ]
     },
     "execution_count": 6,
     "metadata": {},
     "output_type": "execute_result"
    }
   ],
   "source": [
    "def to_celsius(x):\n",
    "  #Convert Fahrenheit to Celsius\n",
    "  return (x-32) * 5/9\n",
    "\n",
    "\n",
    "to_celsius(75)"
   ]
  },
  {
   "cell_type": "code",
   "execution_count": null,
   "metadata": {
    "id": "ZRlPADx8-Jd5"
   },
   "outputs": [],
   "source": [
    "Conditional statements: Sections of code that direct program execution based on specified conditions"
   ]
  },
  {
   "cell_type": "code",
   "execution_count": null,
   "metadata": {
    "colab": {
     "base_uri": "https://localhost:8080/"
    },
    "id": "4kddzOqy-Hrl",
    "outputId": "ce4bb4b3-33fd-4e5d-d8ff-5942ab9e4d2b"
   },
   "outputs": [
    {
     "name": "stdout",
     "output_type": "stream",
     "text": [
      "Number is negative.\n"
     ]
    }
   ],
   "source": [
    "number = -4\n",
    "\n",
    "\n",
    "if number > 0:\n",
    "  print('Number is positive.')\n",
    "elif number == 0:\n",
    "  print('Number is zero.')\n",
    "else:\n",
    "  print('Number is negative.')\n"
   ]
  },
  {
   "cell_type": "markdown",
   "metadata": {
    "id": "D9XFDFVY-8FC"
   },
   "source": [
    "The notebooks has an autosave function!"
   ]
  },
  {
   "cell_type": "markdown",
   "metadata": {
    "id": "OxEr3zJUA1xh"
   },
   "source": [
    "print and type can be used in combination to understand the data type of a variable or any text"
   ]
  },
  {
   "cell_type": "code",
   "execution_count": null,
   "metadata": {
    "colab": {
     "base_uri": "https://localhost:8080/"
    },
    "id": "gXlQ8fG5Av1k",
    "outputId": "c3cf4789-6a32-47cc-cdda-66d7f2e57834"
   },
   "outputs": [
    {
     "name": "stdout",
     "output_type": "stream",
     "text": [
      "<class 'str'>\n",
      "<class 'int'>\n",
      "<class 'float'>\n",
      "<class 'str'>\n"
     ]
    }
   ],
   "source": [
    "print(type(\"a\"))\n",
    "print(type(2))\n",
    "print(type(2.5))\n",
    "name=\"nisarg\"\n",
    "print(type(name))"
   ]
  },
  {
   "cell_type": "markdown",
   "metadata": {
    "id": "xkj2hUkMClbo"
   },
   "source": [
    "variables dont need to be initialized in python; over the course of the code, a variable can also be assigned different data types\n",
    "\n",
    "implicit conversion - when the Python interpreter automatically converts one data type to another\n",
    "\n",
    "explicit conversion - when code is written to manually convert one data type to another using a data type conversion function:\n",
    "\n",
    "str() - converts a value (often numeric) to a string data type\n",
    "int() - converts a value (usually a float) to an integer data type\n",
    "float() - converts a value (usually an integer) to a float data type"
   ]
  },
  {
   "cell_type": "markdown",
   "metadata": {
    "id": "MqxUIupwER0F"
   },
   "source": [
    "to print a combination of numbers and strings we may need to convert the numbers into a string within the print function"
   ]
  },
  {
   "cell_type": "code",
   "execution_count": null,
   "metadata": {
    "colab": {
     "base_uri": "https://localhost:8080/"
    },
    "id": "A1UyWTuu-4PV",
    "outputId": "09279012-b150-4e26-f453-5abe8ec16c69"
   },
   "outputs": [
    {
     "name": "stdout",
     "output_type": "stream",
     "text": [
      "The area of the triangle is: 9.0\n"
     ]
    }
   ],
   "source": [
    "base = 6\n",
    "height = 3\n",
    "area = (base*height)/2\n",
    "print(\"The area of the triangle is: \" + str(area))\n",
    "#print(\"The area of the triangle is: \" + area)\n",
    "# above will throw error = TypeError: can only concatenate str (not \"float\") to str"
   ]
  },
  {
   "cell_type": "markdown",
   "metadata": {
    "id": "zN1spN5hFyZW"
   },
   "source": [
    "Variables Annotated by Type\n",
    "\n",
    "Type annotations are optional in Python. They can be very helpful, though, because they make code easier to read. Annotations make the variable types clear to those reading the code. They can also help you catch errors during compilation. In the example below, we are using the typing module to annotate the different types of variables."
   ]
  },
  {
   "cell_type": "code",
   "execution_count": null,
   "metadata": {
    "id": "9k_DNRDBEnE5"
   },
   "outputs": [],
   "source": [
    "import typing\n",
    "# Define a variable of type str\n",
    "z: str = \"Hello, world!\"\n",
    "# Define a variable of type int\n",
    "x: int = 10\n",
    "# Define a variable of type float\n",
    "y: float = 1.23\n",
    "# Define a variable of type list\n",
    "list_of_numbers: typing.List[int] = [1, 2, 3]\n",
    "# Define a variable of type tuple\n",
    "tuple_of_numbers: typing.Tuple[int, int, int] = (1, 2, 3)\n",
    "# Define a variable of type dict\n",
    "dictionary: typing.Dict[str, int] = {\"key1\": 1, \"key2\": 2}\n",
    "# Define a variable of type set\n",
    "set_of_numbers: typing.Set[int] = {1, 2, 3}"
   ]
  },
  {
   "cell_type": "markdown",
   "metadata": {
    "id": "Su6xVvRiF_Bx"
   },
   "source": [
    "Skill Group 1\n",
    "\n",
    "Use variables to store values\n",
    "\n",
    "Use basic arithmetic operators with variables to create expressions\n",
    "\n",
    "Use explicit conversion to change a data type from float to string"
   ]
  },
  {
   "cell_type": "code",
   "execution_count": null,
   "metadata": {
    "colab": {
     "base_uri": "https://localhost:8080/"
    },
    "id": "rxWsCpTQGC8F",
    "outputId": "ce5bc962-6deb-4cf3-cb9c-b3764d649b3c"
   },
   "outputs": [
    {
     "name": "stdout",
     "output_type": "stream",
     "text": [
      "Each person needs to pay: 27.0\n"
     ]
    }
   ],
   "source": [
    "# The following lines assign the variable to the left of the =\n",
    "# assignment operator with the values and arithmetic expressions\n",
    "# on the right side of the = assignment operator.\n",
    "hotel_room = 100\n",
    "tax = hotel_room * 0.08\n",
    "total = hotel_room + tax\n",
    "room_guests = 4\n",
    "share_per_person = total/room_guests\n",
    "\n",
    "\n",
    "# This line outputs the result of the final calculation stored\n",
    "# in the variable \"share_per_person\"\n",
    "print(\"Each person needs to pay: \" + str(share_per_person)) # change a data type"
   ]
  },
  {
   "cell_type": "markdown",
   "metadata": {
    "id": "tTCdNZf3GSAe"
   },
   "source": [
    "Skill Group 2\n",
    "\n",
    "Output multiple string variables on a single line to form a sentence\n",
    "\n",
    "Use the plus (+) connector or a comma to connect strings in a print() function\n",
    "\n",
    "Create spaces between variables in  a print() function"
   ]
  },
  {
   "cell_type": "code",
   "execution_count": null,
   "metadata": {
    "colab": {
     "base_uri": "https://localhost:8080/"
    },
    "id": "CL--q-3-GfV4",
    "outputId": "4e457ca0-a01f-4dd6-94b1-4be375bfb15e"
   },
   "outputs": [
    {
     "name": "stdout",
     "output_type": "stream",
     "text": [
      "Dr. Prisha Jai Agarwal, Ph.D.\n",
      "Dr. Prisha Jai Agarwal , Ph.D.\n"
     ]
    }
   ],
   "source": [
    "# The following 5 lines assign strings to a list of variables.\n",
    "salutation = \"Dr.\"\n",
    "first_name = \"Prisha\"\n",
    "middle_name = \"Jai\"\n",
    "last_name = \"Agarwal\"\n",
    "suffix = \"Ph.D.\"\n",
    "\n",
    "print(salutation + \" \" + first_name + \" \" + middle_name + \" \" + last_name + \", \" + suffix)\n",
    "# The comma as a string \", \" adds the conventional use of a comma plus a\n",
    "# space to separate the last name from the suffix.\n",
    "\n",
    "# Alternatively, you could use commas in place of the + connector:\n",
    "print(salutation, first_name, middle_name, last_name,\",\", suffix)\n",
    "# However, you will find that this produces a space before a comma within a string."
   ]
  },
  {
   "cell_type": "code",
   "execution_count": null,
   "metadata": {
    "id": "81k2KyCgGjDm"
   },
   "outputs": [],
   "source": []
  },
  {
   "cell_type": "markdown",
   "metadata": {
    "id": "R9RNf7UvVhfG"
   },
   "source": [
    "using user defined inputs for constructing file paths\n"
   ]
  },
  {
   "cell_type": "code",
   "execution_count": null,
   "metadata": {
    "id": "vOfSn537Vkyw"
   },
   "outputs": [],
   "source": [
    "import os\n",
    "\n",
    "\n",
    "# User-defined inputs\n",
    "username = input(\"Enter your username: \")\n",
    "file_name = input(\"Enter the file name (with extension): \")\n",
    "\n",
    "# Constructing the file path\n",
    "file_path = f\"/Users/{username}/Documents/{file_name}\"\n"
   ]
  },
  {
   "cell_type": "markdown",
   "metadata": {
    "id": "7KHiw8b5XFrY"
   },
   "source": [
    "check if file exists"
   ]
  },
  {
   "cell_type": "code",
   "execution_count": null,
   "metadata": {
    "id": "O4p6VgKiXHxO"
   },
   "outputs": [],
   "source": [
    "# Check if the file exists\n",
    "if os.path.exists(file_path):\n",
    "    print(f\"File found: {file_path}\")\n",
    "else:\n",
    "    print(f\"File not found: {file_path}\")\n"
   ]
  },
  {
   "cell_type": "markdown",
   "metadata": {
    "id": "_8SJnqu_nS_b"
   },
   "source": [
    "## get arguments passed to py script and then usem then in the code"
   ]
  },
  {
   "cell_type": "code",
   "execution_count": null,
   "metadata": {
    "id": "YQFFJS8jnTm_"
   },
   "outputs": [],
   "source": [
    "\n",
    "import argparse\n",
    "\n",
    "## i think this def main part is mis-leading... some of these things can happen in the main code itself\n",
    "#revisit when you know python better :)\n",
    "\n",
    "def main():\n",
    "    # Set up argument parsing\n",
    "    parser = argparse.ArgumentParser(description=\"Example script that takes arguments.\")\n",
    "    parser.add_argument('arg1', type=str, help='First argument (a string)')\n",
    "    parser.add_argument('arg2', type=int, help='Second argument (an integer)')\n",
    "\n",
    "    # Parse the arguments\n",
    "    args = parser.parse_args()\n",
    "\n",
    "    # Use the arguments\n",
    "    print(f\"First argument: {args.arg1}\")\n",
    "    print(f\"Second argument: {args.arg2}\")\n",
    "\n",
    "if __name__ == \"__main__\":\n",
    "    main()"
   ]
  },
  {
   "cell_type": "markdown",
   "metadata": {
    "id": "aVoxfyKazXqn"
   },
   "source": [
    "Skill Group 1\n",
    "\n",
    "Use a function that accepts multiple parameters\n",
    "\n",
    "Return a result value"
   ]
  },
  {
   "cell_type": "code",
   "execution_count": null,
   "metadata": {
    "id": "2PjFrecfzpMe"
   },
   "outputs": [],
   "source": [
    "# This function calculates the number of days in a variable number of\n",
    "# years, months, and days. These variables are provided by the user and\n",
    "# are passed to the function through the function’s parameters.\n",
    "def find_total_days(years, months, days):\n",
    "# Assign a variable to hold the calculations for the number of days in\n",
    "# a year (years*365) plus the number of days in a month (months*30) plus\n",
    "# the number of days provided through the \"days\" parameter variable.\n",
    "    my_days = (years*365) + (months*30) + days\n",
    "# Use the \"return\" keyword to send the result of the \"my_days\"\n",
    "# calculation to the function call.\n",
    "    return my_days\n",
    "\n",
    "# Function call with user provided parameter values.\n",
    "print(find_total_days(2,5,23))"
   ]
  },
  {
   "cell_type": "markdown",
   "metadata": {
    "id": "HXNWQUcuzrj_"
   },
   "source": [
    "Skill Group 2\n",
    "\n",
    "Use a function to return the result of a measurement conversion\n",
    "\n",
    "Use arithmetic operators to perform a calculation\n",
    "\n",
    "Combine text with a function call within a print() statement\n",
    "\n",
    "Convert the return value from a float data type to a string for the print() function\n",
    "\n",
    "Call the function and perform a calculation on the return value within a print() statement"
   ]
  },
  {
   "cell_type": "code",
   "execution_count": null,
   "metadata": {
    "id": "-wdLwt-6zvxA"
   },
   "outputs": [],
   "source": [
    "# This function converts fluid ounces to milliliters and returns the\n",
    "# result of the conversion.\n",
    "def convert_volume(fluid_ounce):\n",
    "# Calculate value of the \"ml\" variable using the parameter variable\n",
    "# \"fluid_ounce\". There are approximately 29.5 milliliters in 1 fluid\n",
    "# ounce.\n",
    "    ml = fluid_ounce * 29.5\n",
    "# Return the result of the calculation.\n",
    "    return ml\n",
    "\n",
    "# Call the conversion from within the print() function using 2 fluid\n",
    "# ounces. Convert the return value from a float to a string.\n",
    "print(\"The volume in milliliters is \" + str(convert_volume(2)))\n",
    "\n",
    "# Call the function again and double the 2 fluid ounces from within\n",
    "# the print function.\n",
    "print(\"The volume in milliliters is \" + str(convert_volume(2)*2))\n",
    "# Alternative calculation:\n",
    "# print(\"The volume in milliliters is \" + str(convert_volume(4))\n"
   ]
  },
  {
   "cell_type": "markdown",
   "metadata": {
    "id": "XAuo7rtM4PXW"
   },
   "source": [
    "functions with multiple inputs and multiple return values"
   ]
  },
  {
   "cell_type": "code",
   "execution_count": null,
   "metadata": {
    "id": "APjM2Cej4TId"
   },
   "outputs": [],
   "source": [
    "def area_triangle(base, height):\n",
    "    return base*height/2\n",
    "area_a = area_triangle(5,4)\n",
    "area_b = area_triangle(7,3)\n",
    "sum = area_a + area_b\n",
    "print(\"The sum of both areas is: \" + str(sum))\n",
    "\n",
    "\n",
    "def convert_seconds(seconds):\n",
    "    hours = seconds // 3600\n",
    "    minutes = (seconds - hours * 3600) // 60\n",
    "    remaining_seconds = seconds - hours * 3600 - minutes * 60\n",
    "    return hours, minutes, remaining_seconds\n",
    "\n",
    "hours, minutes, seconds = convert_seconds(5000)\n",
    "print(hours, minutes, seconds)\n"
   ]
  },
  {
   "cell_type": "markdown",
   "metadata": {
    "id": "8NuBGZE-6_3Y"
   },
   "source": [
    "a single equal sign is assignment; like a=4 ; assignment is right to left;\n",
    "\n",
    "\n",
    "a double equal sign is a check for equality; like if a==b\n",
    "\n",
    "\n",
    "strings can be compared\n",
    "a string is greater than another string if it comes later in the dictionary (reverse alphabetically sorted)\n",
    "capital letters are all considered smalller than the lowercase letters.\n",
    "refer to unicode values to find determinitic answers to string comparisons.\n",
    "note that in case of common starting characteres, the 1st different set of characters are compared.\n",
    "\n",
    "\n",
    "\n",
    "Comparison operators return Boolean results. As you learned previously, Boolean is a data type that can hold only one of two values: True or False.  \n",
    "\n",
    "The comparison operators include:\n",
    "\n",
    "==    (equality)\n",
    "\n",
    "!=     (not equal to)\n",
    "\n",
    "\">       (greater than)\"\n",
    "\n",
    "<      (less than)\n",
    "\n",
    "\">=    (greater than or equal to)\"\n",
    "\n",
    "<=    (less than or equal to)\n"
   ]
  },
  {
   "cell_type": "markdown",
   "metadata": {
    "id": "a8yLGf1EGslt"
   },
   "source": [
    "if written correctly, each if function does not need an else:"
   ]
  },
  {
   "cell_type": "code",
   "execution_count": null,
   "metadata": {
    "id": "NqbP2efQGyQg"
   },
   "outputs": [],
   "source": [
    "def is_even(number):\n",
    "    if number % 2 == 0:\n",
    "        return True\n",
    "    return False\n",
    "\n",
    "# above works same as below\n",
    "def is_even(number):\n",
    "    if number % 2 == 0:\n",
    "        return True\n",
    "    esle:\n",
    "        return False\n",
    "\n",
    "# this is because the return statement in the if loop, exits the whole function and does not even go to the else part\n",
    "\n",
    "# as this can be confusing, its better to use an else :)"
   ]
  },
  {
   "cell_type": "markdown",
   "metadata": {
    "id": "rHhgHP1hHPu0"
   },
   "source": [
    "Syntax of an if-elif-else block\n",
    "If condition1 is True:\n",
    "\n",
    "Then perform action1 and exit if-elif-else block\n",
    "\n",
    "If condition2 is True:\n",
    "\n",
    "Then perform action2 and exit if-elif-else block\n",
    "\n",
    "If neither condition1 nor condition2 are True:\n",
    "\n",
    "Then perform action3 and exit if-elif-else block"
   ]
  },
  {
   "cell_type": "code",
   "execution_count": null,
   "metadata": {
    "id": "ekdCzTC08MSE"
   },
   "outputs": [],
   "source": [
    "if condition1:\n",
    "    action1\n",
    "elif condition2:\n",
    "    action2\n",
    "else:\n",
    "    action3\n"
   ]
  },
  {
   "cell_type": "code",
   "execution_count": null,
   "metadata": {
    "id": "fF6y-WdIJJ-W"
   },
   "outputs": [],
   "source": [
    "# This function accepts one variable as a parameter\n",
    "def translate_error_code(error_code):\n",
    "    if error_code == \"401 Unauthorized\":\n",
    "        translation = \"Server received an unauthenticated request\"\n",
    "    elif error_code == \"404 Not Found\":\n",
    "        translation = \"Requested web page not found on server\"\n",
    "    elif error_code == \"408 Request Timeout\":\n",
    "        translation = \"Server request to close unused connection\"\n",
    "    else:\n",
    "        translation = \"Unknown error code\"\n",
    "    return translation\n",
    "\n",
    "\n",
    "# The if-elif-else block assesses the value of the variable\n",
    "# passed to the function as a parameter. The if statement uses\n",
    "# the equality operator == to test the value of the variable.\n",
    "# This test returns a Boolean (True/False) result.\n",
    "# If the comparison above returns True, then the indented\n",
    "# line(s) inside the if-statement will run. In this case, the\n",
    "# action is to assign a string to the translation variable.\n",
    "# The remainder of the if-elif-else block will not run.\n",
    "# The Python interpreter will skip to the next line outside of\n",
    "# the if-elif-else block. In this case, the next line is the\n",
    "# return value statement.\n",
    "\n",
    "# If the initial if-statement returns a False result, then the\n",
    "# first elif-statement will run a different test on the value\n",
    "# of the variable.\n",
    "# If the first elif-statement returns a True result, then the\n",
    "# indented line(s) inside the first elif-statement will run.\n",
    "# After this line, the remainder of the if-elif-else block will\n",
    "# not run. The Python interpreter will skip to the next line\n",
    "# outside of the if-elif-else block.\n",
    "\n",
    "# If both the initial if-statement and the first elif-statement\n",
    "# return a False result, then the second elif-statement will\n",
    "# run.\n",
    "# If the second elif-statement returns a True result, then the\n",
    "# indented line(s) inside the second elif-statement will run.\n",
    "# After this line, the remainder of the if-elif-else block will\n",
    "# not run. The Python interpreter will skip to the next line\n",
    "# outside of the if-elif-else block.\n",
    "\n",
    "# If the conditional tests above do not produce a True result\n",
    "# then the else-statement will run.\n",
    "# The if-elif-else block ends.\n",
    "\n",
    "# The next line outside of the if-elif-else block will run\n",
    "# after exiting the block. In this case, the next line returns\n",
    "# the output from the if-elif-else block.\n",
    "\n",
    "# The print() function allows us to display the output of the\n",
    "# function. To call a function in a print statement, the syntax\n",
    "# is print(name_of_function(parameter))\n",
    "\n",
    "print(translate_error_code(\"404 Not Found\"))\n",
    "# Expected output:\n",
    "# Requested web page not found on server"
   ]
  },
  {
   "cell_type": "markdown",
   "metadata": {},
   "source": [
    "New additions from local computer on 17th Nov\n",
    "Skill Group 1\n",
    "Use a function with the def() keyword\n",
    "\n",
    "Pass a parameter to the function\n",
    "\n",
    "Use an if-elif-else block to set specific conditions for a variety of actions\n",
    "\n",
    "Assign strings to variables \n",
    "\n",
    "Use comparison operators\n",
    "\n",
    "Return a value\n",
    "\n",
    "Call the function in a print statement and pass parameter to the function\n"
   ]
  },
  {
   "cell_type": "code",
   "execution_count": 5,
   "metadata": {},
   "outputs": [
    {
     "name": "stdout",
     "output_type": "stream",
     "text": [
      "Provide IT Support to employees\n",
      "Check overnight backup images\n"
     ]
    }
   ],
   "source": [
    "# A function is created with the def() keyword. The parameter\n",
    "# variable \"time_as_string\" is passed to the function through a \n",
    "# call to the function.\n",
    "def task_reminder(time_as_string):\n",
    "\n",
    "    # The following if-elif-else block assigns various strings to\n",
    "    # the variable \"task\" depending on specific conditions. The\n",
    "    # test conditions are set using the == equality comparison \n",
    "    # operator. In this case, the time passed through the \n",
    "    # \"time_as_string\" parameter variable is tested as the \n",
    "    # specific condition. So, if the time  is \"11:30 a.m.\", then \n",
    "    # \"task\" is assigned the value: \"Run TPS report\".\n",
    "    if time_as_string == \"8:00 a.m.\":\n",
    "        task = \"Check overnight backup images\"\n",
    "    elif time_as_string == \"11:30 a.m.\":\n",
    "        task = \"Run TPS report\"\n",
    "    elif time_as_string == \"5:30 p.m.\":\n",
    "        task = \"Reboot servers\"\n",
    "    # The else statement is a catchall for all other values of \n",
    "    # the \"time_as_string\" parameter variable not listed in the\n",
    "    # if-elif block of code.\n",
    "    else:\n",
    "        task = \"Provide IT Support to employees\"\n",
    "\n",
    "    # This line returns the value of \"task\" to the function call.\n",
    "    return task\n",
    "\n",
    "# This line calls the function and passes a parameter  \n",
    "# (\"10:00 a.m.\") to the function.\n",
    "print(task_reminder(\"10:00 a.m.\"))\n",
    "# Should print \"Provide IT Support to employees\"\n",
    "print(task_reminder(\"8:00 a.m.\"))\n",
    "\n"
   ]
  },
  {
   "cell_type": "markdown",
   "metadata": {},
   "source": [
    "Skill Group 2\n",
    "Predict the output of expressions written with Python’s syntax. \n",
    "\n",
    "Requires an understanding of:\n",
    "\n",
    "Arithmetic and logical operators \n",
    "\n",
    "How functions return and print values\n",
    "\n",
    "How if-elif-else statements work\n",
    "\n",
    "Comparison operators"
   ]
  },
  {
   "cell_type": "code",
   "execution_count": 6,
   "metadata": {},
   "outputs": [
    {
     "name": "stdout",
     "output_type": "stream",
     "text": [
      "120\n",
      "-2\n",
      "False\n",
      "This comparison is True\n",
      "0\n"
     ]
    }
   ],
   "source": [
    "# Example 1\n",
    "# Evaluate the output of this print statement\n",
    "\n",
    "def product(a, b):\n",
    "        return(a*b)\n",
    "\n",
    "print(product(product(2,4), product(3,5)))\n",
    " \n",
    "#################################\n",
    "\n",
    "# Example 2 \n",
    "# Evaluate the output of this print statement\n",
    "\n",
    "def difference(a, b):\n",
    "        return(a-b)\n",
    "\n",
    "def sum(a, b):\n",
    "        return(a+b)\n",
    "\n",
    "print(difference(sum(2,2), sum(3,3)))\n",
    "\n",
    "\n",
    "#################################\n",
    "\n",
    "\n",
    "# Example 3\n",
    "# Evaluate the Boolean output of this comparison\n",
    "\n",
    "\n",
    "print((5 >= 2*4) and (5 <= 4*3))\n",
    "\n",
    "\n",
    "#################################\n",
    "\n",
    "\n",
    "# Example 4 \n",
    "# Evaluate the value of the comparison in the if statement \n",
    "\n",
    "\n",
    "x = 3\n",
    "if x+5 > x**2 or x % 4 != 0:\n",
    "        print(\"This comparison is True\")\n",
    "\n",
    "\n",
    "#################################\n",
    "\n",
    "\n",
    "# Example 5 \n",
    "# Evaluate the output of this if-elif-else statement\n",
    "\n",
    "\n",
    "number = 6\n",
    "if number * 2 < 14:\n",
    "        print(number * 6 % 3)\n",
    "elif number > 7:\n",
    "        print(100 / number)\n",
    "else:\n",
    "        print(7 - number)\n",
    "\n",
    "\n",
    "# Click Run to check your answers. If you are having trouble \n",
    "# calculating the correct answers manually, please review the\n",
    "# Practice Quiz Study Guides, videos, and readings in this Module.\n"
   ]
  },
  {
   "cell_type": "markdown",
   "metadata": {},
   "source": [
    "Skill Group 3\n",
    "Create an if-elif-else statement with: \n",
    "\n",
    "a complex conditional statement using both comparison and logical operators\n",
    "\n",
    "values assigned to variables \n",
    "\n",
    "arithmetic operators, including the modulo % operator"
   ]
  },
  {
   "cell_type": "code",
   "execution_count": null,
   "metadata": {},
   "outputs": [],
   "source": [
    "def get_remainder(x, y):\n",
    " \n",
    "  if x == 0 or y == 0 or x ==y:\n",
    "    remainder = 0\n",
    "  else:\n",
    "    remainder = (x % y) / y\n",
    "  return remainder\n",
    "\n",
    "\n",
    "print(get_remainder(10, 3))\n",
    "\n",
    "\n",
    "## seems liks a mistake to me.... remainder should be 1, not 0.333"
   ]
  },
  {
   "cell_type": "markdown",
   "metadata": {},
   "source": [
    "passed the module 2 quiz... need to do the same for module 3"
   ]
  },
  {
   "cell_type": "markdown",
   "metadata": {},
   "source": [
    "New additions from local computer on 24th Nov\n",
    "module 3 of crash course in python on coursera - https://www.coursera.org/learn/python-crash-course/home/module/3"
   ]
  },
  {
   "cell_type": "markdown",
   "metadata": {},
   "source": [
    "Study guide: while loops\n",
    "This study guide provides a quick-reference summary of what you learned in this segment and serves as a guide for the upcoming practice quiz.  \n",
    "\n",
    "In the while loops segment, you learned about the logical structure and syntax of while loops. You also learned about the importance of initializing variables and how to resolve infinite while loops with the break keyword.  \n",
    "\n",
    "\n",
    "while loops\n",
    "A while loop executes the body of the loop while a specified condition remains True. They are commonly used when there’s an unknown number of operations to be performed, and a condition needs to be checked at each iteration.\n",
    "\n",
    "Syntax:"
   ]
  },
  {
   "cell_type": "code",
   "execution_count": null,
   "metadata": {},
   "outputs": [],
   "source": [
    "while specified condition is True:\n",
    "    body of loop "
   ]
  },
  {
   "cell_type": "code",
   "execution_count": null,
   "metadata": {},
   "outputs": [],
   "source": [
    "#Example while loop\n",
    "multiplier = 1\n",
    "result = multiplier * 5\n",
    "while result <= 50:\n",
    "    print(result)\n",
    "    multiplier += 1\n",
    "    result = multiplier * 5\n",
    "print(\"Done\")\n",
    "\n",
    "\n",
    "# This while loop prints the multiples of 5 between 1 and 50. The\n",
    "# \"multiplier\" variable is initialized with the starting value of 1. \n",
    "# The \"result\" variable is initialized with the value of the \n",
    "# \"multiplier\" variable times 5. \n",
    "\n",
    "# The while loop specifies that the loop must iterate while it is True\n",
    "# that the \"result\" is less than or equal to 50. Within the while loop, \n",
    "# the code tells the Python interpreter to print the value of the \n",
    "# \"result\" variable. Then, the \"multiplier\" is incremented by 1 and the\n",
    "# \"result\" is assigned the new value of the \"multiplier\" times 5. \n",
    "\n",
    "# The end of the while loop is indicated by the indentation of the next \n",
    "# line of code moving one tab to the left. At this point, the Python\n",
    "# interpreter automatically loops back to the beginning of the while\n",
    "# loop to check the condition again with the new value of the \"result\"\n",
    "# variable. When the while loop condition becomes False (meaning\n",
    "# \"result\" is no longer less than or equal to 50), the interpreter exits\n",
    "# the loop and reads the next line of code outside of the loop. In this \n",
    "# case, that next line tells the interpreter to print the string \"Done\". \n",
    "\n",
    "# Click the \"Run\" button to check the result of this while loop.    "
   ]
  },
  {
   "cell_type": "markdown",
   "metadata": {},
   "source": [
    "break - A break statement in Python provides a way to exit out of a loop before the loop's condition is false. Once a break statement is encountered, the program's control flow jumps out of the loop and continues executing the code after the loop."
   ]
  },
  {
   "cell_type": "code",
   "execution_count": null,
   "metadata": {},
   "outputs": [],
   "source": [
    "while True:\n",
    "    do_something_cool()\n",
    "    if user_requested_to_stop():\n",
    "        break\n",
    "#This code will give an error because do_something_cool is not defined"
   ]
  },
  {
   "cell_type": "markdown",
   "metadata": {},
   "source": [
    "Skill group 1\n",
    "Initialize a variable\n",
    "\n",
    "Use a while loop that runs while a specific condition is true\n",
    "\n",
    "Ensure the while loop will not be an infinite loop\n",
    "\n",
    "Increment a value within a while loop"
   ]
  },
  {
   "cell_type": "code",
   "execution_count": null,
   "metadata": {},
   "outputs": [],
   "source": [
    "# This function counts the number of integer factors for a \n",
    "# \"given_number\" variable, passed through the function’s parameters.\n",
    "# The \"count\" return value includes the \"given_number\" itself as a \n",
    "# factor (n*1). \n",
    "def count_factors(given_number):\n",
    "\n",
    "    # To include the \"given_number\" variable as a \"factor\", initialize\n",
    "    # the \"factor\" variable with the value 1 (if the \"factor\" variable\n",
    "    # were to start at 2, the \"given_number\" itself would be excluded). \n",
    "    factor = 1\n",
    "    count = 1\n",
    "\n",
    "    # This \"if\" block will run if the \"given_number\" equals 0.\n",
    "    if given_number == 0:\n",
    "        # If True, the return value will be 0 factors. \n",
    "        return 0\n",
    "\n",
    "    # The while loop will run while the \"factor\" is still less than\n",
    "    # the \"given_number\" variable.\n",
    "    while factor < given_number:\n",
    "        # This \"if\" block checks if the \"given_number\" can be divided by\n",
    "        # the \"factor\" variable without leaving a remainder. The modulo\n",
    "        # operator % is used to test for a remainder.\n",
    "        if given_number % factor == 0:\n",
    "            # If True, then the \"factor\" variable is added to the count of\n",
    "            # the \"given_number\"’s integer factors.\n",
    "            count += 1\n",
    "        # When exiting the if block, increment the \"factor\" variable by 1\n",
    "        # to divide the \"given_number\" variable by a new \"factor\" value\n",
    "        # inside the while loop.\n",
    "        factor += 1\n",
    "\n",
    "    # When the interpreter exits either the while loop or the top if\n",
    "    # block, it will return the value of the \"count\" variable.\n",
    "    return count\n",
    "\n",
    "\n",
    "print(count_factors(0)) # Count value should be 0\n",
    "print(count_factors(3)) # Should count 2 factors (1x3)\n",
    "print(count_factors(10)) # Should count 4 factors (1x10, 2x5)\n",
    "print(count_factors(24)) # Should count 8 factors (1x24, 2x12, 3x8, and 4x6). "
   ]
  },
  {
   "cell_type": "markdown",
   "metadata": {},
   "source": [
    "Skill group 2\n",
    "Initialize variables to assign data types before they are used in a while loop \n",
    "\n",
    "Use the break keyword as an exit point for a while loop"
   ]
  },
  {
   "cell_type": "code",
   "execution_count": null,
   "metadata": {},
   "outputs": [],
   "source": [
    "# This function outputs an addition table. It is written to end after\n",
    "# printing 5 lines of the addition table, but it will break out of the\n",
    "# loop if the \"my_sum\" variable exceeds 20.\n",
    "\n",
    "# The function accepts a \"given_number\" variable through its\n",
    "# parameters.\n",
    "def addition_table(given_number):\n",
    "\n",
    "\t# The \"iterated_number\" and \"my_sum\" variables are initialized with\n",
    "\t# the value of 1. Although the \"my_sum\" variable does not need any\n",
    "\t# specific initial value, it still must be assigned a data type\n",
    "\t# before being used in the while loop. By initializing \"my_sum\"\n",
    "\t# with any integer, the data type will be set to int.\n",
    "\titerated_number = 1\n",
    "\tmy_sum = 1\n",
    "\n",
    "\t# The while loop will run while it is True that the\n",
    "\t# \"iterated_number\" is less than or equal to 5.\n",
    "\twhile iterated_number <= 5:\n",
    "\n",
    "\t\t# The \"my_sum\" variable is assigned the value of the\n",
    "\t\t# \"given_number\" plus the \"iterated_number\" variables.\n",
    "\t\tmy_sum = given_number + iterated_number\n",
    "\n",
    "\t\t# Test to see if the \"my_sum\" variable is greater than 20.\n",
    "\t\tif my_sum > 20:\n",
    "\t\t\t# If True, then use the break keyword to exit the loop.\n",
    "\t\t\tbreak\n",
    "\n",
    "\t\t# If False, the Python interpreter will move to the next line\n",
    "\t\t# in the while loop after the if-statement has ended.\n",
    "\n",
    "\t\t# The print function will output the \"given_number\" plus\n",
    "\t\t# the \"iterated_number\" equals \"my_sum\".\n",
    "\t\tprint(str(given_number), \"+\", str(iterated_number), \"=\", str(my_sum))\n",
    "\n",
    "\t\t# Increment the \"iterated_number\" before the while loop starts\n",
    "\t\t# over again to print a new \"my_sum\" value.\n",
    "\t\titerated_number += 1\n",
    "\n",
    "\n",
    "addition_table(5)\n",
    "addition_table(17)\n",
    "addition_table(30)\n",
    "\n",
    "# Expected output:\n",
    "# 5 + 1 = 6\n",
    "# 5 + 2 = 7\n",
    "# 5 + 3 = 8\n",
    "# 5 + 4 = 9\n",
    "# 5 + 5 = 10\n",
    "# 17 + 1 = 18\n",
    "# 17 + 2 = 19\n",
    "# 17 + 3 = 20\n",
    "# None"
   ]
  },
  {
   "cell_type": "markdown",
   "metadata": {},
   "source": [
    "Note how the placement of the break can affect the edge case of priinting a particular line or not.\n",
    "in above code the break comes before, so a line where sum goes above 21 is not printed. but if the break cam after the print statement, one iteration of that would be printed and then the loop will break.\n",
    "\n",
    "the break command only breaks one loop - the innermost one in which the word is encapsulated\n"
   ]
  },
  {
   "cell_type": "markdown",
   "metadata": {},
   "source": [
    "Study Guide: for Loops\n",
    "Study guide: for loops\n",
    "This study guide provides a summary of what you learned in this segment and serves as a guide for the upcoming practice quiz.  \n",
    "\n",
    "In the for Loops segment, you learned about the logical structure and syntax of for loops. You took a closer look at the range() function. You learned about nested for loops and complex nested for loops with if statements. You also learned how to fix common errors in for loops.\n",
    "\n",
    "for Loops vs. while Loops\n",
    "for loops and while loops share several characteristics. Both loops can be used with a variety of data types, both can be nested, and both can be used with the keywords break and continue. However, there are important differences between the two types of loops: \n",
    "\n",
    "while loops are used when a segment of code needs to execute repeatedly while a condition is true\n",
    "\n",
    "for loops iterate over a sequence of elements, executing the body of the loop for each element in the sequence\n",
    "\n",
    "An important distinction is that for loops are suited for objects that have iterable structures. So lists, strings, ranges of integers. Individual integers are not iterable, but can be looped over by the use of the range() function, which is covered below. While loops do not iterate per se, rather they watch a truth condition \n",
    "\n",
    "Syntax \n",
    "The syntax of a for loop with the in keyword:"
   ]
  },
  {
   "cell_type": "code",
   "execution_count": null,
   "metadata": {},
   "outputs": [],
   "source": [
    "for variable in sequence:\n",
    "    body of loop"
   ]
  },
  {
   "cell_type": "markdown",
   "metadata": {},
   "source": [
    "Common for Loop Structures \n",
    "for Loop with range()\n",
    "\n",
    "The in keyword with the range() function generates a sequence of integer numbers, which can be used with a for loop to configure the iterations of the code. The range of numbers [0, 1, 2] correlates to ordinal index positions (1st, 2nd, 3rd), rather than the cardinal (quantity) values of the numbers 0, 1, and 2. For example, range(5) means the five index positions in the range [0, 1, 2, 3, 4]. \n",
    "\n",
    "The range() function can take up to three parameters. The roles of the three possible range(x,y,z) parameters are:\n",
    "\n",
    "x = Start - Starting index position of the range \n",
    "\n",
    "Default index position is 0.\n",
    "\n",
    "The starting index position is included in the range.\n",
    "\n",
    "Example syntax: range(2, y, z) or range(x+3, y, z) \n",
    "\n",
    "y = Stop - Ending index position of range\n",
    "\n",
    "No default index position. Must include the ending index position in the range() parameters.\n",
    "\n",
    "Example syntax: range(y)\n",
    "\n",
    "The value of the ending index position is excluded from the range.\n",
    "\n",
    "To include the ending index number, use the expression: y+1 (index + 1)\n",
    "\n",
    "Example syntax: range(x, y+1, z)\n",
    "\n",
    "Alternatively, if y = 10, you can write: range(x, 11, z)\n",
    "\n",
    "z = Step - Incremental value\n",
    "\n",
    "Example of a for loop with the in keyword and the range() function:"
   ]
  },
  {
   "cell_type": "code",
   "execution_count": null,
   "metadata": {},
   "outputs": [],
   "source": [
    "# This loop iterates on the value of the \"number\" variable in a range\n",
    "# of 1 to 6+1 (the upper range limit of 6 is excluded, so +1 has\n",
    "# been added to it to include 6 in the range). The incremental value\n",
    "# for the loop is 2 (number+2). The print() function will output the\n",
    "# resulting value of \"number\" multiplied by 3.\n",
    "\n",
    "for number in range(1, 6+1, 2):\n",
    "    print(number * 3)\n",
    "\n",
    "# The loop should print 3, 9, 15"
   ]
  },
  {
   "cell_type": "markdown",
   "metadata": {},
   "source": [
    "Common pitfalls when using the range() function:\n",
    "Forgetting that the upper limit of a range() isn’t included in the range.\n",
    "\n",
    "Iterating over non-sequences. For example, strings are iterable letter by letter, but not word by word. \n",
    "\n",
    "Example of a range() function where the value of the upper limit of the range is excluded:"
   ]
  },
  {
   "cell_type": "code",
   "execution_count": null,
   "metadata": {},
   "outputs": [],
   "source": [
    "# This loop iterates on the value of the \"number\" variable in a range\n",
    "# of 2 to 7 (the upper range limit of 8 is excluded). The print() \n",
    "# function will output the resulting value of \"number\" squared.\n",
    "\n",
    "for number in range(2,8):\n",
    "    print(number**2)\n",
    "\n",
    "# The loop should print 4, 9, 16, 25, 36, 49"
   ]
  },
  {
   "cell_type": "markdown",
   "metadata": {},
   "source": [
    "Nested for Loops \n",
    "The syntax of nested for loops:"
   ]
  },
  {
   "cell_type": "code",
   "execution_count": null,
   "metadata": {},
   "outputs": [],
   "source": [
    "for x in sequence:\n",
    "    # start of the outer loop body\n",
    "    for y in sequence:\n",
    "        # start of the inner loop body\n",
    "        # end of of the inner loop body\n",
    "    # continue body of the outer loop\n",
    "    # end of the outer loop body"
   ]
  },
  {
   "cell_type": "markdown",
   "metadata": {},
   "source": [
    "Example of nested for loops:"
   ]
  },
  {
   "cell_type": "code",
   "execution_count": null,
   "metadata": {},
   "outputs": [],
   "source": [
    "# This code demonstrates the outer and inner loop iterations of a pair \n",
    "# of nested for loops. Click \"Run\" to see the results. The outer loop\n",
    "# will run twice for the range pointer positions [0, 1] in range(2).\n",
    "# The inner loop will run 4 times for the range pointer positions \n",
    "# [0, 1, 2, 3] in range(3+1) or range(4) each time the outer loop runs.\n",
    "# So, the inner loop will execute 8 times in total.\n",
    "\n",
    "for x in range(2):\n",
    "    print(\"This is the outer loop iteration number \" + str(x))\n",
    "    for y in range(3+1):\n",
    "        print(\"Inner loop iteration number \" + str(y))\n",
    "    print(\"Exit inner loop\")"
   ]
  },
  {
   "cell_type": "markdown",
   "metadata": {},
   "source": [
    "for loop with nested if Statement\n",
    "The syntax of a for Loop with nested if Statement:"
   ]
  },
  {
   "cell_type": "code",
   "execution_count": null,
   "metadata": {},
   "outputs": [],
   "source": [
    "for x in sequence:\n",
    "    # start of body of for loop\n",
    "    if condition is true:\n",
    "        # start of body of if-statement\n",
    "        # end of body of if-statement\n",
    "    # continue body of for loop\n",
    "    # end of body of for loop\n",
    "\n",
    "# As a list comprehension:\n",
    "[x for x in sequence if condition]"
   ]
  },
  {
   "cell_type": "markdown",
   "metadata": {},
   "source": [
    "Example of a for Loop with Nested if Statement:\n",
    "\n"
   ]
  },
  {
   "cell_type": "code",
   "execution_count": null,
   "metadata": {},
   "outputs": [],
   "source": [
    "# This for loop iterates through the numbers 0 to 6. The if statement\n",
    "# uses the modulo operator to test if the \"x\" variable is divisible by\n",
    "# 2. If True, the if statement will print the value of \"x\" and exit\n",
    "# back into the for loop for the next iteration of \"x\". Since no \n",
    "# incremental value is specified in the range() parameters, the default\n",
    "# increment is +1. \n",
    "\n",
    "for x in range(7):\n",
    "    if x % 2 == 0:\n",
    "        print(x)\n",
    "\n",
    "# The loop should print 0, 2, 4, 6\n",
    "\n",
    "# As a list comprehension:\n",
    "even_numbers = [x for x in range(7) if x % 2 == 0]\n",
    "print(even_numbers)"
   ]
  },
  {
   "cell_type": "markdown",
   "metadata": {},
   "source": [
    "List comprehensions\n",
    "It is important to know that loops can be avoided sometimes; as you progress, you will develop a sense of when and how to do so. The concepts for loops are similar between other languages, but in Python, list comprehensions provide a concise way to create lists based on existing lists or sequences. \n",
    "\n",
    "Here is a concrete example for better understanding. Let's say you have a sequence of numbers and you want to create a new list containing only the even numbers from the sequence.\n",
    "\n",
    "With a traditional for Loop, you might write:"
   ]
  },
  {
   "cell_type": "code",
   "execution_count": null,
   "metadata": {},
   "outputs": [],
   "source": [
    "sequence = range(10)\n",
    "new_list = []\n",
    "for x in sequence:\n",
    "    if x % 2 == 0:\n",
    "        new_list.append(x)\n",
    "\n",
    "\n",
    "#With a list comprehension, you could achieve the same result in a more concise way:\n",
    "\n",
    "sequence = range(10)\n",
    "new_list = [x for x in sequence if x % 2 == 0]"
   ]
  },
  {
   "cell_type": "markdown",
   "metadata": {},
   "source": [
    "Both of these pieces of code will create a list of even numbers from 0 to 10: [0, 2, 4, 6, 8]. The list comprehension version does this in a single, compact line. These “one-liners” are very useful and dramatically reduce overhead. \n",
    "\n",
    "An example of a useful one-liner is:"
   ]
  },
  {
   "cell_type": "code",
   "execution_count": null,
   "metadata": {},
   "outputs": [],
   "source": [
    "print(\"*\" * 8)\n",
    "#This prints “*” 8 times. The number can be replaced by an integer variable, \n",
    "# and to do this with a loop would be several lines of code and run more slowly.  "
   ]
  }
 ],
 "metadata": {
  "colab": {
   "authorship_tag": "ABX9TyPhgjQlwwauV6LzXTuouIQp",
   "include_colab_link": true,
   "provenance": []
  },
  "kernelspec": {
   "display_name": "Python 3",
   "name": "python3"
  },
  "language_info": {
   "codemirror_mode": {
    "name": "ipython",
    "version": 3
   },
   "file_extension": ".py",
   "mimetype": "text/x-python",
   "name": "python",
   "nbconvert_exporter": "python",
   "pygments_lexer": "ipython3",
   "version": "3.9.6"
  }
 },
 "nbformat": 4,
 "nbformat_minor": 0
}
