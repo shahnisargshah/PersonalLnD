{
 "cells": [
  {
   "cell_type": "markdown",
   "metadata": {
    "colab_type": "text",
    "id": "view-in-github"
   },
   "source": [
    "<a href=\"https://colab.research.google.com/github/shahnisargshah/PersonalLnD/blob/main/Crash_course_Python.ipynb\" target=\"_parent\"><img src=\"https://colab.research.google.com/assets/colab-badge.svg\" alt=\"Open In Colab\"/></a>"
   ]
  },
  {
   "cell_type": "markdown",
   "metadata": {
    "id": "UQS7r9-h4Be_"
   },
   "source": [
    "Skill 1\n",
    "Use the print() function to output a string"
   ]
  },
  {
   "cell_type": "code",
   "execution_count": null,
   "metadata": {
    "colab": {
     "base_uri": "https://localhost:8080/"
    },
    "collapsed": true,
    "id": "WAeBkXY-3UEF",
    "outputId": "b10f90c6-34f0-483b-8f41-6c812dcc3977"
   },
   "outputs": [
    {
     "name": "stdout",
     "output_type": "stream",
     "text": [
      "I love Python!\n",
      "360\n",
      "1440\n",
      "48\n"
     ]
    }
   ],
   "source": [
    "# Syntax for printing a string of text\n",
    "print(\"I love Python!\")\n",
    "\n",
    "\n",
    "# Syntax for printing numeric values\n",
    "print(360)\n",
    "print(32*45)\n",
    "\n",
    "\n",
    "# Syntax for printing the value of a variable\n",
    "value = 8*6\n",
    "print(value)"
   ]
  },
  {
   "cell_type": "markdown",
   "metadata": {
    "id": "UgOrpE8g33TB"
   },
   "source": [
    "Skill 2\n",
    "Use arithmetic operators, with a focus on exponents"
   ]
  },
  {
   "cell_type": "code",
   "execution_count": null,
   "metadata": {
    "id": "-R-IYEFl3-PM"
   },
   "outputs": [],
   "source": [
    "\n",
    "# Multiplication, division, addition, and subtraction\n",
    "print(3*8/2+5-1)\n",
    "\n",
    "# Exponents\n",
    "print(4**6) # Syntax means 4 to the power of 6\n",
    "print(4**2) # To square a number\n",
    "print(4**3) # To cube a number\n",
    "print(4**0.5) # To find the square root of a number\n",
    "\n",
    "# To calculate how many different possible combinations can be\n",
    "# formed using a set of \"x\" characters with each character in \"x\"\n",
    "# having \"y\" number of possible values, you will need to use an\n",
    "# exponent for the calculation:\n",
    "x = 4\n",
    "y = 26\n",
    "print(y**x)"
   ]
  },
  {
   "cell_type": "markdown",
   "metadata": {
    "id": "TqiufnBi3s0w"
   },
   "source": [
    "Skill 3\n",
    "Use variables with assignment and arithmetic operators"
   ]
  },
  {
   "cell_type": "code",
   "execution_count": null,
   "metadata": {
    "colab": {
     "base_uri": "https://localhost:8080/"
    },
    "id": "rjwA87Vh3y_i",
    "outputId": "a1b1f3c5-3732-4586-ff92-e8ec99b43de9"
   },
   "outputs": [
    {
     "name": "stdout",
     "output_type": "stream",
     "text": [
      "520\n"
     ]
    }
   ],
   "source": [
    "\n",
    "# Assignment of values to the variables:\n",
    "years = 10\n",
    "weeks_in_a_year = 52\n",
    "# This variable is assigned an arithmetic calculation:\n",
    "weeks_in_a_decade = years * weeks_in_a_year\n",
    "# Prints the calculation stored in the \"weeks_in_a_decade\" variable:\n",
    "print(weeks_in_a_decade)"
   ]
  },
  {
   "cell_type": "markdown",
   "metadata": {
    "id": "RFsNsUWC-Eeg"
   },
   "source": [
    "Functions: A group of related statements to perform a task and return a value"
   ]
  },
  {
   "cell_type": "code",
   "execution_count": null,
   "metadata": {
    "colab": {
     "base_uri": "https://localhost:8080/"
    },
    "id": "vpVbdf5M-FyC",
    "outputId": "ec836c43-216f-479f-dd02-49d1ea254f17"
   },
   "outputs": [
    {
     "data": {
      "text/plain": [
       "23.88888888888889"
      ]
     },
     "execution_count": 6,
     "metadata": {},
     "output_type": "execute_result"
    }
   ],
   "source": [
    "def to_celsius(x):\n",
    "  #Convert Fahrenheit to Celsius\n",
    "  return (x-32) * 5/9\n",
    "\n",
    "\n",
    "to_celsius(75)"
   ]
  },
  {
   "cell_type": "code",
   "execution_count": null,
   "metadata": {
    "id": "ZRlPADx8-Jd5"
   },
   "outputs": [],
   "source": [
    "Conditional statements: Sections of code that direct program execution based on specified conditions"
   ]
  },
  {
   "cell_type": "code",
   "execution_count": null,
   "metadata": {
    "colab": {
     "base_uri": "https://localhost:8080/"
    },
    "id": "4kddzOqy-Hrl",
    "outputId": "ce4bb4b3-33fd-4e5d-d8ff-5942ab9e4d2b"
   },
   "outputs": [
    {
     "name": "stdout",
     "output_type": "stream",
     "text": [
      "Number is negative.\n"
     ]
    }
   ],
   "source": [
    "number = -4\n",
    "\n",
    "\n",
    "if number > 0:\n",
    "  print('Number is positive.')\n",
    "elif number == 0:\n",
    "  print('Number is zero.')\n",
    "else:\n",
    "  print('Number is negative.')\n"
   ]
  },
  {
   "cell_type": "markdown",
   "metadata": {
    "id": "D9XFDFVY-8FC"
   },
   "source": [
    "The notebooks has an autosave function!"
   ]
  },
  {
   "cell_type": "markdown",
   "metadata": {
    "id": "OxEr3zJUA1xh"
   },
   "source": [
    "print and type can be used in combination to understand the data type of a variable or any text"
   ]
  },
  {
   "cell_type": "code",
   "execution_count": null,
   "metadata": {
    "colab": {
     "base_uri": "https://localhost:8080/"
    },
    "id": "gXlQ8fG5Av1k",
    "outputId": "c3cf4789-6a32-47cc-cdda-66d7f2e57834"
   },
   "outputs": [
    {
     "name": "stdout",
     "output_type": "stream",
     "text": [
      "<class 'str'>\n",
      "<class 'int'>\n",
      "<class 'float'>\n",
      "<class 'str'>\n"
     ]
    }
   ],
   "source": [
    "print(type(\"a\"))\n",
    "print(type(2))\n",
    "print(type(2.5))\n",
    "name=\"nisarg\"\n",
    "print(type(name))"
   ]
  },
  {
   "cell_type": "markdown",
   "metadata": {
    "id": "xkj2hUkMClbo"
   },
   "source": [
    "variables dont need to be initialized in python; over the course of the code, a variable can also be assigned different data types\n",
    "\n",
    "implicit conversion - when the Python interpreter automatically converts one data type to another\n",
    "\n",
    "explicit conversion - when code is written to manually convert one data type to another using a data type conversion function:\n",
    "\n",
    "str() - converts a value (often numeric) to a string data type\n",
    "int() - converts a value (usually a float) to an integer data type\n",
    "float() - converts a value (usually an integer) to a float data type"
   ]
  },
  {
   "cell_type": "markdown",
   "metadata": {
    "id": "MqxUIupwER0F"
   },
   "source": [
    "to print a combination of numbers and strings we may need to convert the numbers into a string within the print function"
   ]
  },
  {
   "cell_type": "code",
   "execution_count": null,
   "metadata": {
    "colab": {
     "base_uri": "https://localhost:8080/"
    },
    "id": "A1UyWTuu-4PV",
    "outputId": "09279012-b150-4e26-f453-5abe8ec16c69"
   },
   "outputs": [
    {
     "name": "stdout",
     "output_type": "stream",
     "text": [
      "The area of the triangle is: 9.0\n"
     ]
    }
   ],
   "source": [
    "base = 6\n",
    "height = 3\n",
    "area = (base*height)/2\n",
    "print(\"The area of the triangle is: \" + str(area))\n",
    "#print(\"The area of the triangle is: \" + area)\n",
    "# above will throw error = TypeError: can only concatenate str (not \"float\") to str"
   ]
  },
  {
   "cell_type": "markdown",
   "metadata": {
    "id": "zN1spN5hFyZW"
   },
   "source": [
    "Variables Annotated by Type\n",
    "\n",
    "Type annotations are optional in Python. They can be very helpful, though, because they make code easier to read. Annotations make the variable types clear to those reading the code. They can also help you catch errors during compilation. In the example below, we are using the typing module to annotate the different types of variables."
   ]
  },
  {
   "cell_type": "code",
   "execution_count": null,
   "metadata": {
    "id": "9k_DNRDBEnE5"
   },
   "outputs": [],
   "source": [
    "import typing\n",
    "# Define a variable of type str\n",
    "z: str = \"Hello, world!\"\n",
    "# Define a variable of type int\n",
    "x: int = 10\n",
    "# Define a variable of type float\n",
    "y: float = 1.23\n",
    "# Define a variable of type list\n",
    "list_of_numbers: typing.List[int] = [1, 2, 3]\n",
    "# Define a variable of type tuple\n",
    "tuple_of_numbers: typing.Tuple[int, int, int] = (1, 2, 3)\n",
    "# Define a variable of type dict\n",
    "dictionary: typing.Dict[str, int] = {\"key1\": 1, \"key2\": 2}\n",
    "# Define a variable of type set\n",
    "set_of_numbers: typing.Set[int] = {1, 2, 3}"
   ]
  },
  {
   "cell_type": "markdown",
   "metadata": {
    "id": "Su6xVvRiF_Bx"
   },
   "source": [
    "Skill Group 1\n",
    "\n",
    "Use variables to store values\n",
    "\n",
    "Use basic arithmetic operators with variables to create expressions\n",
    "\n",
    "Use explicit conversion to change a data type from float to string"
   ]
  },
  {
   "cell_type": "code",
   "execution_count": null,
   "metadata": {
    "colab": {
     "base_uri": "https://localhost:8080/"
    },
    "id": "rxWsCpTQGC8F",
    "outputId": "ce5bc962-6deb-4cf3-cb9c-b3764d649b3c"
   },
   "outputs": [
    {
     "name": "stdout",
     "output_type": "stream",
     "text": [
      "Each person needs to pay: 27.0\n"
     ]
    }
   ],
   "source": [
    "# The following lines assign the variable to the left of the =\n",
    "# assignment operator with the values and arithmetic expressions\n",
    "# on the right side of the = assignment operator.\n",
    "hotel_room = 100\n",
    "tax = hotel_room * 0.08\n",
    "total = hotel_room + tax\n",
    "room_guests = 4\n",
    "share_per_person = total/room_guests\n",
    "\n",
    "\n",
    "# This line outputs the result of the final calculation stored\n",
    "# in the variable \"share_per_person\"\n",
    "print(\"Each person needs to pay: \" + str(share_per_person)) # change a data type"
   ]
  },
  {
   "cell_type": "markdown",
   "metadata": {
    "id": "tTCdNZf3GSAe"
   },
   "source": [
    "Skill Group 2\n",
    "\n",
    "Output multiple string variables on a single line to form a sentence\n",
    "\n",
    "Use the plus (+) connector or a comma to connect strings in a print() function\n",
    "\n",
    "Create spaces between variables in  a print() function"
   ]
  },
  {
   "cell_type": "code",
   "execution_count": null,
   "metadata": {
    "colab": {
     "base_uri": "https://localhost:8080/"
    },
    "id": "CL--q-3-GfV4",
    "outputId": "4e457ca0-a01f-4dd6-94b1-4be375bfb15e"
   },
   "outputs": [
    {
     "name": "stdout",
     "output_type": "stream",
     "text": [
      "Dr. Prisha Jai Agarwal, Ph.D.\n",
      "Dr. Prisha Jai Agarwal , Ph.D.\n"
     ]
    }
   ],
   "source": [
    "# The following 5 lines assign strings to a list of variables.\n",
    "salutation = \"Dr.\"\n",
    "first_name = \"Prisha\"\n",
    "middle_name = \"Jai\"\n",
    "last_name = \"Agarwal\"\n",
    "suffix = \"Ph.D.\"\n",
    "\n",
    "print(salutation + \" \" + first_name + \" \" + middle_name + \" \" + last_name + \", \" + suffix)\n",
    "# The comma as a string \", \" adds the conventional use of a comma plus a\n",
    "# space to separate the last name from the suffix.\n",
    "\n",
    "# Alternatively, you could use commas in place of the + connector:\n",
    "print(salutation, first_name, middle_name, last_name,\",\", suffix)\n",
    "# However, you will find that this produces a space before a comma within a string."
   ]
  },
  {
   "cell_type": "code",
   "execution_count": null,
   "metadata": {
    "id": "81k2KyCgGjDm"
   },
   "outputs": [],
   "source": []
  },
  {
   "cell_type": "markdown",
   "metadata": {
    "id": "R9RNf7UvVhfG"
   },
   "source": [
    "using user defined inputs for constructing file paths\n"
   ]
  },
  {
   "cell_type": "code",
   "execution_count": null,
   "metadata": {
    "id": "vOfSn537Vkyw"
   },
   "outputs": [],
   "source": [
    "import os\n",
    "\n",
    "\n",
    "# User-defined inputs\n",
    "username = input(\"Enter your username: \")\n",
    "file_name = input(\"Enter the file name (with extension): \")\n",
    "\n",
    "# Constructing the file path\n",
    "file_path = f\"/Users/{username}/Documents/{file_name}\"\n"
   ]
  },
  {
   "cell_type": "markdown",
   "metadata": {
    "id": "7KHiw8b5XFrY"
   },
   "source": [
    "check if file exists"
   ]
  },
  {
   "cell_type": "code",
   "execution_count": null,
   "metadata": {
    "id": "O4p6VgKiXHxO"
   },
   "outputs": [],
   "source": [
    "# Check if the file exists\n",
    "if os.path.exists(file_path):\n",
    "    print(f\"File found: {file_path}\")\n",
    "else:\n",
    "    print(f\"File not found: {file_path}\")\n"
   ]
  },
  {
   "cell_type": "markdown",
   "metadata": {
    "id": "_8SJnqu_nS_b"
   },
   "source": [
    "## get arguments passed to py script and then usem then in the code"
   ]
  },
  {
   "cell_type": "code",
   "execution_count": null,
   "metadata": {
    "id": "YQFFJS8jnTm_"
   },
   "outputs": [],
   "source": [
    "\n",
    "import argparse\n",
    "\n",
    "## i think this def main part is mis-leading... some of these things can happen in the main code itself\n",
    "#revisit when you know python better :)\n",
    "\n",
    "def main():\n",
    "    # Set up argument parsing\n",
    "    parser = argparse.ArgumentParser(description=\"Example script that takes arguments.\")\n",
    "    parser.add_argument('arg1', type=str, help='First argument (a string)')\n",
    "    parser.add_argument('arg2', type=int, help='Second argument (an integer)')\n",
    "\n",
    "    # Parse the arguments\n",
    "    args = parser.parse_args()\n",
    "\n",
    "    # Use the arguments\n",
    "    print(f\"First argument: {args.arg1}\")\n",
    "    print(f\"Second argument: {args.arg2}\")\n",
    "\n",
    "if __name__ == \"__main__\":\n",
    "    main()"
   ]
  },
  {
   "cell_type": "markdown",
   "metadata": {
    "id": "aVoxfyKazXqn"
   },
   "source": [
    "Skill Group 1\n",
    "\n",
    "Use a function that accepts multiple parameters\n",
    "\n",
    "Return a result value"
   ]
  },
  {
   "cell_type": "code",
   "execution_count": null,
   "metadata": {
    "id": "2PjFrecfzpMe"
   },
   "outputs": [],
   "source": [
    "# This function calculates the number of days in a variable number of\n",
    "# years, months, and days. These variables are provided by the user and\n",
    "# are passed to the function through the function’s parameters.\n",
    "def find_total_days(years, months, days):\n",
    "# Assign a variable to hold the calculations for the number of days in\n",
    "# a year (years*365) plus the number of days in a month (months*30) plus\n",
    "# the number of days provided through the \"days\" parameter variable.\n",
    "    my_days = (years*365) + (months*30) + days\n",
    "# Use the \"return\" keyword to send the result of the \"my_days\"\n",
    "# calculation to the function call.\n",
    "    return my_days\n",
    "\n",
    "# Function call with user provided parameter values.\n",
    "print(find_total_days(2,5,23))"
   ]
  },
  {
   "cell_type": "markdown",
   "metadata": {
    "id": "HXNWQUcuzrj_"
   },
   "source": [
    "Skill Group 2\n",
    "\n",
    "Use a function to return the result of a measurement conversion\n",
    "\n",
    "Use arithmetic operators to perform a calculation\n",
    "\n",
    "Combine text with a function call within a print() statement\n",
    "\n",
    "Convert the return value from a float data type to a string for the print() function\n",
    "\n",
    "Call the function and perform a calculation on the return value within a print() statement"
   ]
  },
  {
   "cell_type": "code",
   "execution_count": null,
   "metadata": {
    "id": "-wdLwt-6zvxA"
   },
   "outputs": [],
   "source": [
    "# This function converts fluid ounces to milliliters and returns the\n",
    "# result of the conversion.\n",
    "def convert_volume(fluid_ounce):\n",
    "# Calculate value of the \"ml\" variable using the parameter variable\n",
    "# \"fluid_ounce\". There are approximately 29.5 milliliters in 1 fluid\n",
    "# ounce.\n",
    "    ml = fluid_ounce * 29.5\n",
    "# Return the result of the calculation.\n",
    "    return ml\n",
    "\n",
    "# Call the conversion from within the print() function using 2 fluid\n",
    "# ounces. Convert the return value from a float to a string.\n",
    "print(\"The volume in milliliters is \" + str(convert_volume(2)))\n",
    "\n",
    "# Call the function again and double the 2 fluid ounces from within\n",
    "# the print function.\n",
    "print(\"The volume in milliliters is \" + str(convert_volume(2)*2))\n",
    "# Alternative calculation:\n",
    "# print(\"The volume in milliliters is \" + str(convert_volume(4))\n"
   ]
  },
  {
   "cell_type": "markdown",
   "metadata": {
    "id": "XAuo7rtM4PXW"
   },
   "source": [
    "functions with multiple inputs and multiple return values"
   ]
  },
  {
   "cell_type": "code",
   "execution_count": null,
   "metadata": {
    "id": "APjM2Cej4TId"
   },
   "outputs": [],
   "source": [
    "def area_triangle(base, height):\n",
    "    return base*height/2\n",
    "area_a = area_triangle(5,4)\n",
    "area_b = area_triangle(7,3)\n",
    "sum = area_a + area_b\n",
    "print(\"The sum of both areas is: \" + str(sum))\n",
    "\n",
    "\n",
    "def convert_seconds(seconds):\n",
    "    hours = seconds // 3600\n",
    "    minutes = (seconds - hours * 3600) // 60\n",
    "    remaining_seconds = seconds - hours * 3600 - minutes * 60\n",
    "    return hours, minutes, remaining_seconds\n",
    "\n",
    "hours, minutes, seconds = convert_seconds(5000)\n",
    "print(hours, minutes, seconds)\n"
   ]
  },
  {
   "cell_type": "markdown",
   "metadata": {
    "id": "8NuBGZE-6_3Y"
   },
   "source": [
    "a single equal sign is assignment; like a=4 ; assignment is right to left;\n",
    "\n",
    "\n",
    "a double equal sign is a check for equality; like if a==b\n",
    "\n",
    "\n",
    "strings can be compared\n",
    "a string is greater than another string if it comes later in the dictionary (reverse alphabetically sorted)\n",
    "capital letters are all considered smalller than the lowercase letters.\n",
    "refer to unicode values to find determinitic answers to string comparisons.\n",
    "note that in case of common starting characteres, the 1st different set of characters are compared.\n",
    "\n",
    "\n",
    "\n",
    "Comparison operators return Boolean results. As you learned previously, Boolean is a data type that can hold only one of two values: True or False.  \n",
    "\n",
    "The comparison operators include:\n",
    "\n",
    "==    (equality)\n",
    "\n",
    "!=     (not equal to)\n",
    "\n",
    "\">       (greater than)\"\n",
    "\n",
    "<      (less than)\n",
    "\n",
    "\">=    (greater than or equal to)\"\n",
    "\n",
    "<=    (less than or equal to)\n"
   ]
  },
  {
   "cell_type": "markdown",
   "metadata": {
    "id": "a8yLGf1EGslt"
   },
   "source": [
    "if written correctly, each if function does not need an else:"
   ]
  },
  {
   "cell_type": "code",
   "execution_count": null,
   "metadata": {
    "id": "NqbP2efQGyQg"
   },
   "outputs": [],
   "source": [
    "def is_even(number):\n",
    "    if number % 2 == 0:\n",
    "        return True\n",
    "    return False\n",
    "\n",
    "# above works same as below\n",
    "def is_even(number):\n",
    "    if number % 2 == 0:\n",
    "        return True\n",
    "    esle:\n",
    "        return False\n",
    "\n",
    "# this is because the return statement in the if loop, exits the whole function and does not even go to the else part\n",
    "\n",
    "# as this can be confusing, its better to use an else :)"
   ]
  },
  {
   "cell_type": "markdown",
   "metadata": {
    "id": "rHhgHP1hHPu0"
   },
   "source": [
    "Syntax of an if-elif-else block\n",
    "If condition1 is True:\n",
    "\n",
    "Then perform action1 and exit if-elif-else block\n",
    "\n",
    "If condition2 is True:\n",
    "\n",
    "Then perform action2 and exit if-elif-else block\n",
    "\n",
    "If neither condition1 nor condition2 are True:\n",
    "\n",
    "Then perform action3 and exit if-elif-else block"
   ]
  },
  {
   "cell_type": "code",
   "execution_count": null,
   "metadata": {
    "id": "ekdCzTC08MSE"
   },
   "outputs": [],
   "source": [
    "if condition1:\n",
    "    action1\n",
    "elif condition2:\n",
    "    action2\n",
    "else:\n",
    "    action3\n"
   ]
  },
  {
   "cell_type": "code",
   "execution_count": null,
   "metadata": {
    "id": "fF6y-WdIJJ-W"
   },
   "outputs": [],
   "source": [
    "# This function accepts one variable as a parameter\n",
    "def translate_error_code(error_code):\n",
    "    if error_code == \"401 Unauthorized\":\n",
    "        translation = \"Server received an unauthenticated request\"\n",
    "    elif error_code == \"404 Not Found\":\n",
    "        translation = \"Requested web page not found on server\"\n",
    "    elif error_code == \"408 Request Timeout\":\n",
    "        translation = \"Server request to close unused connection\"\n",
    "    else:\n",
    "        translation = \"Unknown error code\"\n",
    "    return translation\n",
    "\n",
    "\n",
    "# The if-elif-else block assesses the value of the variable\n",
    "# passed to the function as a parameter. The if statement uses\n",
    "# the equality operator == to test the value of the variable.\n",
    "# This test returns a Boolean (True/False) result.\n",
    "# If the comparison above returns True, then the indented\n",
    "# line(s) inside the if-statement will run. In this case, the\n",
    "# action is to assign a string to the translation variable.\n",
    "# The remainder of the if-elif-else block will not run.\n",
    "# The Python interpreter will skip to the next line outside of\n",
    "# the if-elif-else block. In this case, the next line is the\n",
    "# return value statement.\n",
    "\n",
    "# If the initial if-statement returns a False result, then the\n",
    "# first elif-statement will run a different test on the value\n",
    "# of the variable.\n",
    "# If the first elif-statement returns a True result, then the\n",
    "# indented line(s) inside the first elif-statement will run.\n",
    "# After this line, the remainder of the if-elif-else block will\n",
    "# not run. The Python interpreter will skip to the next line\n",
    "# outside of the if-elif-else block.\n",
    "\n",
    "# If both the initial if-statement and the first elif-statement\n",
    "# return a False result, then the second elif-statement will\n",
    "# run.\n",
    "# If the second elif-statement returns a True result, then the\n",
    "# indented line(s) inside the second elif-statement will run.\n",
    "# After this line, the remainder of the if-elif-else block will\n",
    "# not run. The Python interpreter will skip to the next line\n",
    "# outside of the if-elif-else block.\n",
    "\n",
    "# If the conditional tests above do not produce a True result\n",
    "# then the else-statement will run.\n",
    "# The if-elif-else block ends.\n",
    "\n",
    "# The next line outside of the if-elif-else block will run\n",
    "# after exiting the block. In this case, the next line returns\n",
    "# the output from the if-elif-else block.\n",
    "\n",
    "# The print() function allows us to display the output of the\n",
    "# function. To call a function in a print statement, the syntax\n",
    "# is print(name_of_function(parameter))\n",
    "\n",
    "print(translate_error_code(\"404 Not Found\"))\n",
    "# Expected output:\n",
    "# Requested web page not found on server"
   ]
  },
  {
   "cell_type": "code",
   "execution_count": null,
   "metadata": {},
   "outputs": [],
   "source": []
  },
  {
   "cell_type": "markdown",
   "metadata": {},
   "source": [
    "New additions from local computer\n"
   ]
  }
 ],
 "metadata": {
  "colab": {
   "authorship_tag": "ABX9TyPhgjQlwwauV6LzXTuouIQp",
   "include_colab_link": true,
   "provenance": []
  },
  "kernelspec": {
   "display_name": "Python 3",
   "name": "python3"
  },
  "language_info": {
   "name": "python"
  }
 },
 "nbformat": 4,
 "nbformat_minor": 0
}
